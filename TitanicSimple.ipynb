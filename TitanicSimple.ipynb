{
 "cells": [
  {
   "cell_type": "markdown",
   "id": "7e3b7295-406f-40bc-85b8-4a26030d9f44",
   "metadata": {},
   "source": [
    "# Predicting the Survival of Titanic Passengers"
   ]
  },
  {
   "cell_type": "markdown",
   "id": "39f036b9-f45a-4d09-a94b-2d55982eefc3",
   "metadata": {},
   "source": [
    "### By Thomas Bierly"
   ]
  },
  {
   "cell_type": "markdown",
   "id": "7381775f-c1d0-49fe-a0de-9a5316a19951",
   "metadata": {},
   "source": [
    "The RMS Titanic was a British passenger liner that sank in the North Atlantic Ocean in the early morning hours of 15 April 1912, after it collided with an iceberg during its maiden voyage from Southampton to New York City. There were an estimated 2,224 passengers and crew aboard the ship, and more than 1,500 died, making it one of the deadliest commercial peacetime maritime disasters in modern history. The RMS Titanic was the largest ship afloat at the time it entered service and was the second of three Olympic-class ocean liners operated by the White Star Line. The Titanic was built by the Harland and Wolff shipyard in Belfast. Thomas Andrews, her architect, died in the disaster."
   ]
  },
  {
   "cell_type": "markdown",
   "id": "a0d107cf-779b-48e5-9757-1703a3304b4c",
   "metadata": {},
   "source": [
    "![H.M.S. Titanic](Titanic1.jpeg \"H.M.S. Titanic\")"
   ]
  },
  {
   "cell_type": "markdown",
   "id": "437389c6-0177-4ced-8232-dab852638b8c",
   "metadata": {},
   "source": [
    "## Machine learning process\n",
    "The process for developing trustworthy machine learning systems is a bit too complex for our webinar (detailed in the picture below). For this exercise I used data from the kaggle.com “Titanic: Machine Learning from Disaster” Competition. I have already cleaned this data and prepared it for ML. I have also already evaluated machine learning methods and tuned the hyperparamaters for the model we will be using today.\n",
    "\n",
    "For more details on this process, see: https://towardsdatascience.com/predicting-the-survival-of-titanic-passengers-30870ccc7e8\n",
    "\n",
    "![Process](process.png \"Process\")"
   ]
  },
  {
   "cell_type": "markdown",
   "id": "e83603c3-0add-4a62-8dad-74d0f1f7a7a3",
   "metadata": {},
   "source": [
    "## Import Libraries"
   ]
  },
  {
   "cell_type": "code",
   "execution_count": null,
   "id": "e45e6d04-dc1b-4fab-8e0f-f63ebd094e91",
   "metadata": {},
   "outputs": [],
   "source": [
    "# linear algebra\n",
    "import numpy as np \n",
    "\n",
    "# data processing\n",
    "import pandas as pd \n",
    "\n",
    "# data visualization\n",
    "import mitosheet\n",
    "import seaborn as sns\n",
    "sns.set_style(\"whitegrid\")\n",
    "%matplotlib inline\n",
    "from matplotlib import pyplot as plt\n",
    "from matplotlib import style\n",
    "\n",
    "# Algorithms\n",
    "from sklearn.ensemble import RandomForestClassifier\n",
    "from sklearn.metrics import roc_auc_score\n",
    "from sklearn.metrics import roc_curve\n",
    "\n",
    "# Display pretty pictures\n",
    "from IPython.display import Image\n",
    "\n",
    "# OS tweaks for mitosheet\n",
    "import os\n",
    "os.environ['NUMEXPR_MAX_THREADS'] = '20' # the number of CPU cores"
   ]
  },
  {
   "cell_type": "markdown",
   "id": "0348fafc-5e23-4cc3-a08c-7246518da285",
   "metadata": {},
   "source": [
    "## Import Dataset"
   ]
  },
  {
   "cell_type": "code",
   "execution_count": null,
   "id": "fbfa320d-aed2-49fe-b6a3-ec66d1415507",
   "metadata": {},
   "outputs": [],
   "source": [
    "test_o_df = pd.read_csv(\"test.csv\")\n",
    "train_o_df = pd.read_csv(\"train.csv\")"
   ]
  },
  {
   "cell_type": "code",
   "execution_count": null,
   "id": "74d00421-c6bc-437f-9e72-ec8ae22ed685",
   "metadata": {},
   "outputs": [],
   "source": [
    "mitosheet.sheet(train_o_df)"
   ]
  },
  {
   "cell_type": "code",
   "execution_count": null,
   "id": "47c84dc9-a90a-4673-ba11-8310e9202219",
   "metadata": {},
   "outputs": [],
   "source": []
  },
  {
   "cell_type": "markdown",
   "id": "ee3ccf57-383a-4fd6-9dce-2f3785f1385c",
   "metadata": {},
   "source": [
    "#### Missing values?"
   ]
  },
  {
   "cell_type": "code",
   "execution_count": null,
   "id": "230c2f5b-51d6-49d6-9f89-a5b125cb0d91",
   "metadata": {},
   "outputs": [],
   "source": [
    "total = train_o_df.isnull().sum().sort_values(ascending=False)\n",
    "percent_1 = train_o_df.isnull().sum()/train_o_df.isnull().count()*100\n",
    "percent_2 = (round(percent_1, 1)).sort_values(ascending=False)\n",
    "missing_data = pd.concat([total, percent_2], axis=1, keys=['Total', '%'])\n",
    "missing_data.head(5)"
   ]
  },
  {
   "cell_type": "markdown",
   "id": "fd9c29f2-2d34-4a9e-8379-b199c303d5fe",
   "metadata": {},
   "source": [
    "## How do we predict who lives and dies?"
   ]
  },
  {
   "cell_type": "code",
   "execution_count": null,
   "id": "d542fffb-26d0-4005-8a17-e9afbea16584",
   "metadata": {},
   "outputs": [],
   "source": [
    "survived = 'survived'\n",
    "not_survived = 'not survived'\n",
    "\n",
    "fig, axes = plt.subplots(nrows=1, ncols=2,figsize=(10, 4))\n",
    "\n",
    "women = train_o_df[train_o_df['Sex']=='female']\n",
    "men = train_o_df[train_o_df['Sex']=='male']\n",
    "\n",
    "ax = sns.histplot(women[women['Survived']==1].Age.dropna(), bins=20, label = survived, ax = axes[0], kde =False)\n",
    "ax = sns.histplot(women[women['Survived']==0].Age.dropna(), bins=40, label = not_survived, ax = axes[0], kde =False, color = \"orange\")\n",
    "ax.legend()\n",
    "ax.set_title('Female')\n",
    "\n",
    "ax = sns.histplot(men[men['Survived']==1].Age.dropna(), bins=20, label = survived, ax = axes[1], kde = False)\n",
    "ax = sns.histplot(men[men['Survived']==0].Age.dropna(), bins=40, label = not_survived, ax = axes[1], kde = False, color = \"orange\")\n",
    "ax.legend()\n",
    "_ = ax.set_title('Male')"
   ]
  },
  {
   "cell_type": "code",
   "execution_count": null,
   "id": "ae3c56e6-3f43-4b63-ae18-362b9d7e375f",
   "metadata": {},
   "outputs": [],
   "source": [
    "grid = sns.FacetGrid(train_o_df, col='Survived', row='Pclass', height=2.2, aspect=1.6)\n",
    "grid.map(plt.hist, 'Age', alpha=.5, bins=20)\n",
    "grid.add_legend();"
   ]
  },
  {
   "cell_type": "markdown",
   "id": "82ff2b7e-4a7d-4c75-81e8-9b8f7a89dab3",
   "metadata": {},
   "source": [
    "## Import Cleaned, Feature Rich, Data\n",
    "![Titanic Cabins](Titanic2.png \"Titanic Cabins\")"
   ]
  },
  {
   "cell_type": "code",
   "execution_count": null,
   "id": "9189b1e1-90e7-483f-8cbf-1033cc9b2728",
   "metadata": {},
   "outputs": [],
   "source": [
    "test_df = pd.read_csv(\"test_clean.csv\")\n",
    "train_df = pd.read_csv(\"train_clean.csv\")"
   ]
  },
  {
   "cell_type": "code",
   "execution_count": null,
   "id": "fd2074e5-d5c0-4ab3-b91b-225435189a5c",
   "metadata": {},
   "outputs": [],
   "source": [
    "test_df.head()"
   ]
  },
  {
   "cell_type": "markdown",
   "id": "0b2e712a-2fd2-40a5-96c7-6c82020b29f4",
   "metadata": {},
   "source": [
    "## Random Forest Machine Learning\n",
    "![Random Forest](randomforest.png \"Random Forest\")"
   ]
  },
  {
   "cell_type": "code",
   "execution_count": null,
   "id": "0547b42d-8de0-4bc5-ba38-a14b4a0eaae6",
   "metadata": {},
   "outputs": [],
   "source": [
    "# X_train are the predictive features\n",
    "X_train = train_df.drop(\"Survived\", axis=1)\n",
    "\n",
    "#Y_train is the outcome\n",
    "Y_train = train_df[\"Survived\"]\n",
    "\n",
    "X_test  = test_df.drop(\"PassengerId\", axis=1).copy()"
   ]
  },
  {
   "cell_type": "code",
   "execution_count": null,
   "id": "430c9186-3898-4734-ae04-4c42c31a046c",
   "metadata": {},
   "outputs": [],
   "source": [
    "# Random Forest\n",
    "random_forest = RandomForestClassifier(criterion = \"gini\", \n",
    "                                       min_samples_leaf = 1, \n",
    "                                       min_samples_split = 10,   \n",
    "                                       n_estimators=100, \n",
    "                                       max_features='auto', \n",
    "                                       oob_score=True, \n",
    "                                       random_state=1, \n",
    "                                       n_jobs=-1)\n",
    "\n",
    "random_forest.fit(X_train, Y_train)\n",
    "Y_prediction = random_forest.predict(X_test)\n",
    "\n",
    "random_forest.score(X_train, Y_train)\n",
    "\n",
    "# getting the probabilities of our predictions\n",
    "y_scores = random_forest.predict_proba(X_train)\n",
    "y_scores = y_scores[:,1]\n",
    "\n",
    "r_a_score = roc_auc_score(Y_train, y_scores)\n",
    "print(\"ROC-AUC Score:\", round(r_a_score, 4)*100, \"%\")"
   ]
  },
  {
   "cell_type": "code",
   "execution_count": null,
   "id": "5a552097-dd95-49a1-a4f9-584f08f9121c",
   "metadata": {},
   "outputs": [],
   "source": [
    "# compute true positive rate and false positive rate\n",
    "false_positive_rate, true_positive_rate, thresholds = roc_curve(Y_train, y_scores)\n",
    "# plotting them against each other\n",
    "def plot_roc_curve(false_positive_rate, true_positive_rate, label=None):\n",
    "    plt.plot(false_positive_rate, true_positive_rate, linewidth=2, label=label)\n",
    "    plt.plot([0, 1], [0, 1], 'r', linewidth=4)\n",
    "    plt.axis([0, 1, 0, 1])\n",
    "    plt.xlabel('False Positive Rate (FPR)', fontsize=16)\n",
    "    plt.ylabel('True Positive Rate (TPR)', fontsize=16)\n",
    "\n",
    "plt.figure(figsize=(14, 7))\n",
    "plot_roc_curve(false_positive_rate, true_positive_rate)\n",
    "plt.show()"
   ]
  },
  {
   "cell_type": "code",
   "execution_count": null,
   "id": "b0c4a372-88b9-45df-aaaf-8c4fe36c8329",
   "metadata": {},
   "outputs": [],
   "source": [
    "importances = pd.DataFrame({'feature':X_train.columns,'importance':np.round(random_forest.feature_importances_,3)*100})\n",
    "importances = importances.sort_values('importance',ascending=False).set_index('feature')\n",
    "importances.head(15)"
   ]
  },
  {
   "cell_type": "code",
   "execution_count": null,
   "id": "b44208c1-2a4d-475c-a16c-ffcfd32ab9ad",
   "metadata": {},
   "outputs": [],
   "source": [
    "importances.plot.bar()"
   ]
  },
  {
   "cell_type": "code",
   "execution_count": null,
   "id": "8a876f73-c343-43f6-a01b-8135227e6740",
   "metadata": {},
   "outputs": [],
   "source": []
  },
  {
   "cell_type": "code",
   "execution_count": null,
   "id": "5973fa87-ca72-47a1-a428-df9f384123a1",
   "metadata": {},
   "outputs": [],
   "source": []
  },
  {
   "cell_type": "markdown",
   "id": "aaac83d8-df3c-4589-ba25-4acc5b1c24d3",
   "metadata": {},
   "source": [
    "## The Prediction\n",
    "![Titanic Sinking](titanic_sinking.jpg \"Titanic Sinking\")"
   ]
  },
  {
   "cell_type": "code",
   "execution_count": null,
   "id": "2a73163e-ebf5-4b03-844e-bf844ca80be0",
   "metadata": {},
   "outputs": [],
   "source": [
    "# select the passenger record (dataframe row)\n",
    "passenger = 11\n",
    "\n",
    "singleX = X_test.iloc[[passenger]]\n",
    "single_o_X = test_o_df.iloc[[passenger]]\n",
    "single_o_X"
   ]
  },
  {
   "cell_type": "code",
   "execution_count": null,
   "id": "a45a5fcb-de4d-449d-9a68-ba2e89c05763",
   "metadata": {},
   "outputs": [],
   "source": [
    "# Make the Prediction\n",
    "Y_prediction = random_forest.predict(singleX)\n",
    "\n",
    "if Y_prediction == 1:\n",
    "    pic = 'rose'\n",
    "    alive = 'Survived'\n",
    "else:\n",
    "    pic = 'jack'\n",
    "    alive = 'Deceased'\n",
    "    \n",
    "print('\\033[1m' + alive + '\\033[0m')\n",
    "Image(filename=pic+'.gif')"
   ]
  },
  {
   "cell_type": "code",
   "execution_count": null,
   "id": "988db5f5-2ed5-438f-a33a-a61982335a99",
   "metadata": {},
   "outputs": [],
   "source": []
  }
 ],
 "metadata": {
  "kernelspec": {
   "display_name": "Python 3 (ipykernel)",
   "language": "python",
   "name": "python3"
  },
  "language_info": {
   "codemirror_mode": {
    "name": "ipython",
    "version": 3
   },
   "file_extension": ".py",
   "mimetype": "text/x-python",
   "name": "python",
   "nbconvert_exporter": "python",
   "pygments_lexer": "ipython3",
   "version": "3.8.12"
  }
 },
 "nbformat": 4,
 "nbformat_minor": 5
}
